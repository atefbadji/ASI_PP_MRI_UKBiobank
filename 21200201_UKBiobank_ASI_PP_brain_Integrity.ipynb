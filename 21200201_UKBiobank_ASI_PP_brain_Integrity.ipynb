{
 "cells": [
  {
   "cell_type": "markdown",
   "metadata": {},
   "source": [
    "# <i class=\"fa fa-folder-open\" style=\"font-size: 2em;\"></i> Blood pressure cut-off value with respect to white matter changes\n",
    "***\n"
   ]
  },
  {
   "cell_type": "markdown",
   "metadata": {},
   "source": [
    "<div class=\"alert alert-info\" role=\"alert\">\n",
    "<p style=\"font-size:16px;\"><strong>This notebook contains the code written in R to perform the statistical analysis and plots of the following study:</strong></p>\n",
    "\n",
    "<br>\n",
    "<a href=\"\" target=\"blank\">XX</a>\n",
    "\n",
    "</div>  "
   ]
  },
  {
   "cell_type": "markdown",
   "metadata": {},
   "source": [
    "<img src=\"https://upload.wikimedia.org/wikipedia/commons/thumb/3/37/Plotly-logo-01-square.png/220px-Plotly-logo-01-square.png\" width=\"130\" height=\"130\" align=\"right\" />\n",
    "\n",
    "<img src=\"https://usercontent2.hubstatic.com/13881141.png\" width=\"130\" height=\"130\" align=\"right\" />\n",
    "\n",
    "# <i class=\"fa fa-compass\" style=\"font-size: 1.5em;\"></i><left> &nbsp; Load all necessary libraries. </left> \n",
    "\n",
    "<p style=\"color:blue;\"><strong>Please run the cell below to load packages.</strong><p>\n",
    "\n"
   ]
  },
  {
   "cell_type": "code",
   "execution_count": 1,
   "metadata": {},
   "outputs": [
    {
     "name": "stdout",
     "output_type": "stream",
     "text": [
      "\n",
      "The downloaded binary packages are in\n",
      "\t/var/folders/px/tbdn43qj4s79q9f2rs03n7280000gn/T//RtmpN02jL8/downloaded_packages\n"
     ]
    },
    {
     "name": "stderr",
     "output_type": "stream",
     "text": [
      "\n",
      "Attaching package: ‘dplyr’\n",
      "\n",
      "\n",
      "The following object is masked from ‘package:gridExtra’:\n",
      "\n",
      "    combine\n",
      "\n",
      "\n",
      "The following objects are masked from ‘package:plyr’:\n",
      "\n",
      "    arrange, count, desc, failwith, id, mutate, rename, summarise,\n",
      "    summarize\n",
      "\n",
      "\n",
      "The following objects are masked from ‘package:stats’:\n",
      "\n",
      "    filter, lag\n",
      "\n",
      "\n",
      "The following objects are masked from ‘package:base’:\n",
      "\n",
      "    intersect, setdiff, setequal, union\n",
      "\n",
      "\n",
      "Loading required package: MASS\n",
      "\n",
      "\n",
      "Attaching package: ‘MASS’\n",
      "\n",
      "\n",
      "The following object is masked from ‘package:dplyr’:\n",
      "\n",
      "    select\n",
      "\n",
      "\n"
     ]
    },
    {
     "name": "stdout",
     "output_type": "stream",
     "text": [
      "\n",
      "  There is a binary version available but the source version is later:\n",
      "       binary source needs_compilation\n",
      "ggpubr  0.2.5  0.4.0             FALSE\n",
      "\n"
     ]
    },
    {
     "name": "stderr",
     "output_type": "stream",
     "text": [
      "installing the source package ‘ggpubr’\n",
      "\n",
      "\n",
      "\n",
      "Attaching package: ‘ggpubr’\n",
      "\n",
      "\n",
      "The following object is masked from ‘package:plyr’:\n",
      "\n",
      "    mutate\n",
      "\n",
      "\n"
     ]
    },
    {
     "name": "stdout",
     "output_type": "stream",
     "text": [
      "\n",
      "  There is a binary version available but the source version is later:\n",
      "          binary  source needs_compilation\n",
      "lubridate  1.7.4 1.7.9.2              TRUE\n",
      "\n"
     ]
    },
    {
     "name": "stderr",
     "output_type": "stream",
     "text": [
      "installing the source package ‘lubridate’\n",
      "\n",
      "\n",
      "\n",
      "Attaching package: ‘lubridate’\n",
      "\n",
      "\n",
      "The following objects are masked from ‘package:dplyr’:\n",
      "\n",
      "    intersect, setdiff, union\n",
      "\n",
      "\n",
      "The following objects are masked from ‘package:base’:\n",
      "\n",
      "    date, intersect, setdiff, union\n",
      "\n",
      "\n"
     ]
    },
    {
     "name": "stdout",
     "output_type": "stream",
     "text": [
      "\n",
      "The downloaded binary packages are in\n",
      "\t/var/folders/px/tbdn43qj4s79q9f2rs03n7280000gn/T//RtmpN02jL8/downloaded_packages\n"
     ]
    },
    {
     "name": "stderr",
     "output_type": "stream",
     "text": [
      "\n",
      "Attaching package: ‘olsrr’\n",
      "\n",
      "\n",
      "The following object is masked from ‘package:MASS’:\n",
      "\n",
      "    cement\n",
      "\n",
      "\n",
      "The following object is masked from ‘package:datasets’:\n",
      "\n",
      "    rivers\n",
      "\n",
      "\n",
      "\n",
      "Attaching package: ‘plotly’\n",
      "\n",
      "\n",
      "The following object is masked from ‘package:MASS’:\n",
      "\n",
      "    select\n",
      "\n",
      "\n",
      "The following object is masked from ‘package:ggplot2’:\n",
      "\n",
      "    last_plot\n",
      "\n",
      "\n",
      "The following objects are masked from ‘package:plyr’:\n",
      "\n",
      "    arrange, mutate, rename, summarise\n",
      "\n",
      "\n",
      "The following object is masked from ‘package:stats’:\n",
      "\n",
      "    filter\n",
      "\n",
      "\n",
      "The following object is masked from ‘package:graphics’:\n",
      "\n",
      "    layout\n",
      "\n",
      "\n"
     ]
    },
    {
     "name": "stdout",
     "output_type": "stream",
     "text": [
      "\n",
      "  There is a binary version available but the source version is later:\n",
      "         binary source needs_compilation\n",
      "ellipsis  0.3.0  0.3.1              TRUE\n",
      "\n"
     ]
    },
    {
     "name": "stderr",
     "output_type": "stream",
     "text": [
      "installing the source package ‘ellipsis’\n",
      "\n",
      "\n"
     ]
    },
    {
     "name": "stdout",
     "output_type": "stream",
     "text": [
      "\n",
      "  There is a binary version available but the source version is later:\n",
      "         binary source needs_compilation\n",
      "devtools  2.2.2  2.3.2             FALSE\n",
      "\n"
     ]
    },
    {
     "name": "stderr",
     "output_type": "stream",
     "text": [
      "installing the source package ‘devtools’\n",
      "\n",
      "\n",
      "Skipping install of 'chisq.posthoc.test' from a github remote, the SHA1 (186d2ca6) has not changed since last install.\n",
      "  Use `force = TRUE` to force installation\n",
      "\n"
     ]
    }
   ],
   "source": [
    "library(plyr) \n",
    "library(ggplot2)\n",
    "library(gridExtra)\n",
    "install.packages('maxstat')\n",
    "library(dplyr)\n",
    "library(\"ppcor\")\n",
    "install.packages(\"ggpubr\")\n",
    "library(\"ggpubr\")\n",
    "install.packages(\"lubridate\")\n",
    "library(\"lubridate\")\n",
    "# olssr to perform stepwise linear regression\n",
    "install.packages(\"olsrr\")\n",
    "# devtools::install_github(\"rsquaredacademy/olsrr\")\n",
    "library(\"olsrr\")\n",
    "#Plotly\n",
    "library(plotly)\n",
    "# kHI-2\n",
    "install.packages(\"ellipsis\")\n",
    "install.packages(\"devtools\")\n",
    "devtools::install_github(\"ebbertd/chisq.posthoc.test\")\n",
    "library(chisq.posthoc.test)"
   ]
  },
  {
   "cell_type": "markdown",
   "metadata": {},
   "source": [
    "# <i class=\"fa fa-compass\" style=\"font-size: 1.5em;\"></i><left> &nbsp;Read data.</left> "
   ]
  },
  {
   "cell_type": "code",
   "execution_count": null,
   "metadata": {},
   "outputs": [],
   "source": [
    "data <- read.csv('20200902_selected_subjects.csv')\n",
    "#dim(data)\n"
   ]
  },
  {
   "cell_type": "code",
   "execution_count": null,
   "metadata": {},
   "outputs": [],
   "source": [
    "colnames(data)"
   ]
  },
  {
   "cell_type": "code",
   "execution_count": null,
   "metadata": {},
   "outputs": [],
   "source": [
    "# select variables\n",
    "myvars <- c(\"X31.0.0\",\"X34.0.0\",\"X52.0.0\",\"X53.2.0\",\"X1239.2.0\",\"X21001.2.0\",\"X4079.2.0\",\"X4079.2.1\",\"X4080.2.0\",\"X4080.2.1\",\"X2443.2.0\", \"X6177.2.0\", \"X21021.2.0\", \"X22127.0.0\",\n",
    "            \"X22128.0.0\",\"X22129.0.0\",\"X22130.0.0\",\"X22131.0.0\",\"X22132.0.0\",\"X22133.0.0\",\"X22134.0.0\",\"X22135.0.0\",\n",
    "            \"X22136.0.0\",\"X22137.0.0\",\"X22138.0.0\",\"X22139.0.0\",\"X22140.0.0\",\"X22141.0.0\",\"X25007.2.0\",\"FA_CC\",\n",
    "            \"FA_IC\",\"FA_CR\",\"X25781.2.0\",\"X42007.0.0\",\"X42009.0.0\",\"X130693.0.0\",\"X130695.0.0\",\"X130697.0.0\",\n",
    "            \"X130699.0.0\",\"X130701.0.0\",\"X130703.0.0\",\"X130703.0.0\",\"X130705.0.0\",\"X130721.0.0\",\"X130723.0.0\",\n",
    "            \"X131013.0.0\",\"X131015.0.0\",\"X131019.0.0\",\"X131021.0.0\",\"X131023.0.0\",\"X131025.0.0\",\"X131027.0.0\",\"X131029.0.0\",\n",
    "            \"X131031.0.0\",\"X131033.0.0\",\"X131037.0.0\",\"X131039.0.0\",\"X131041.0.0\",\"X131043.0.0\",\"X131045.0.0\",\n",
    "            \"X131047.0.0\",\"X131049.0.0\",\"X131051.0.0\",\"X131057.0.0\",\"X131059.0.0\",\"X131113.0.0\",\n",
    "            \"X131275.0.0\",\"X131277.0.0\",\"X131279.0.0\", \"X131283.0.0\", \"X131285.0.0\", \"X131349.0.0\",\n",
    "            \"X131351.0.0\",\"X131353.0.0\", \"X131355.0.0\",\"X131663.0.0\",\"X132031.0.0\", \"X132033.0.0\",\"X132035.0.0\")\n",
    "data1 <- data[myvars]\n",
    "#print(data1)\n",
    "colnames(data1) <- c ('Sex','year_birth','month_birth','date_attending_centre','Current_smoking','BMI','DBP_0','DBP_1','SBP_0','SBP_1','Diabetes','Med','SI','asthma','emphysema',\n",
    "                      'chronic_brochitis','COPD','cystic_fibrosis','alpha1_antitrypsin_def','sarcoidosis','bronchiectasis',\n",
    "                      'idiopathic_pulmonary_fibrosis','fibrosing_alveolitis','tuberculosis','silicosis','asbestosis',\n",
    "                      'lung_cancer','mesothelioma_lung','WMV',\"FA_CC\",\"FA_IC\",\"FA_CR\",\"WMHV\",'Stroke','Ischemisk_stroke','iodine_deficiency_related_thyroid_disorder',\n",
    "                      'subclinical_iodine_deficiency_hypothyr','other_non_toxic_goiter','thyrotoxicosis','other_disorders_of_the_thyroid',\n",
    "                      'hypoparathyroidism','hyperparathyroidism_and_other_disorders_of_the_parathyroid_gland','Huntington',\n",
    "                      'hereditary_ataxia','systemic_atrophies_primarily_affecting_CNS','postpolio_syndrome','parkinson',\n",
    "                      'secondary_parkinson','parkinsonism','other_deg_BG','dystonia','other_extrapyram',\"alzheimer\",\n",
    "                      'other_deg_CNS_not_classified_elsewhere','other_deg_CNS_Classified_elsewhere','MS','other_acute_dessiminated_demyelination','other_demyelinating_disease','epilepsy',\n",
    "                      'status_epilepticus','trasient_cerebral_ischaemic_attack_and_related_S','vascular_syndrome_of_brain_in_cerebrovascular_disease',\n",
    "                      'toxic_encephalopathy','rheumatic_chorea','rheumatic_mitral_valve_disease','rheumatic_aortic_valve_diseases',\n",
    "                     'multiple_valve_diseases','other_rheumatic_heart_diseases','paroxysmal_tachycardia','atrial_fibrillation_flutter',\n",
    "                     'other_cardiac_arrhythmias','heart_failure','hepatic_failure','acute_renal_failure','chronic_renal_failure',\n",
    "                     'unspecified_renal_failure')\n",
    "\n"
   ]
  },
  {
   "cell_type": "code",
   "execution_count": null,
   "metadata": {},
   "outputs": [],
   "source": [
    "# The data that couldn't be included in the exclusion criteria because no data is available.\n",
    "\n",
    "# print(data1$rheumatic_mitral_valve_disease)\n",
    "# print(data1$rheumatic_aortic_valve_diseases)\n",
    "# print(data1$multiple_valve_diseases)\n",
    "# print(data1$other_rheumatic_heart_diseases)\n",
    "# print(data1$paroxysmal_tachycardia)\n",
    "# print(data1$atrial_fibrillation_flutter)\n",
    "# print(data1$other_cardiac_arrhythmias)\n",
    "# print(data1$heart_failure)\n",
    "# print(data1$hepatic_failure)\n",
    "# print(data1$acute_renal_failure)\n",
    "# print(data1$chronic_renal_failure)\n",
    "# print(data1$unspecified_renal_failure)"
   ]
  },
  {
   "cell_type": "markdown",
   "metadata": {},
   "source": [
    "### Exlusion criteria \n"
   ]
  },
  {
   "cell_type": "code",
   "execution_count": null,
   "metadata": {},
   "outputs": [],
   "source": [
    "data1_inclusion = data1 [!c((data1$Current_smoking==1 & !is.na(data1$Current_smoking))|\n",
    "                            (data1$Diabetes==1 & !is.na(data1$Diabetes))|\n",
    "                            (data1$asthma==1 & !is.na(data1$asthma))|\n",
    "                            (data1$emphysema==1 & !is.na(data1$emphysema))|\n",
    "                            (data1$chronic_brochitis==1 & !is.na(data1$chronic_brochitis))|\n",
    "                            (data1$COPD==1 & !is.na(data1$COPD))|\n",
    "                            (data1$cystic_fibrosis==1 & !is.na(data1$cystic_fibrosis))|\n",
    "                            (data1$alpha1_antitrypsin_def==1 & !is.na(data1$alpha1_antitrypsin_def))|\n",
    "                            (data1$sarcoidosis==1 & !is.na(data1$sarcoidosis))|\n",
    "                            (data1$bronchiectasis==1 & !is.na(data1$bronchiectasis))|\n",
    "                            (data1$idiopathic_pulmonary_fibrosis==1 & !is.na(data1$idiopathic_pulmonary_fibrosis))|\n",
    "                            (data1$fibrosing_alveolitis==1 & !is.na(data1$fibrosing_alveolitis))|\n",
    "                            (data1$tuberculosis==1 & !is.na(data1$tuberculosis))|\n",
    "                            (data1$silicosis==1 & !is.na(data1$silicosis))|\n",
    "                            (data1$asbestosis==1 & !is.na(data1$asbestosis))|\n",
    "                            (data1$lung_cancer==1 & !is.na(data1$lung_cancer))|\n",
    "                            (data1$mesothelioma_lung==1 & !is.na(data1$mesothelioma_lung))|\n",
    "                            (data1$Stroke>0 & !is.na(data1$Stroke))|\n",
    "                            (data1$Ischemisk_stroke>0 & !is.na(data1$Ischemisk_stroke))|\n",
    "                            (data1$iodine_deficiency_related_thyroid_disorder>0 & !is.na(data1$iodine_deficiency_related_thyroid_disorder))|\n",
    "                            (data1$subclinical_iodine_deficiency_hypothyr>0 & !is.na(data1$subclinical_iodine_deficiency_hypothyr))|\n",
    "                            (data1$other_non_toxic_goiter>0 & !is.na(data1$other_non_toxic_goiter))|\n",
    "                            (data1$thyrotoxicosis>0 & !is.na(data1$thyrotoxicosis))|\n",
    "                            (data1$other_disorders_of_the_thyroid>0 & !is.na(data1$other_disorders_of_the_thyroid))|\n",
    "                            (data1$hypoparathyroidism>0 & !is.na(data1$hypoparathyroidism))|\n",
    "                            (data1$hyperparathyroidism_and_other_disorders_of_the_parathyroid_gland>0 & !is.na(data1$hyperparathyroidism_and_other_disorders_of_the_parathyroid_gland))|\n",
    "                            (data1$Huntington>0 & !is.na(data1$Huntington))|\n",
    "                            (data1$hereditary_ataxia>0 & !is.na(data1$hereditary_ataxia))|\n",
    "                            (data1$systemic_atrophies_primarily_affecting_CNS>0 & !is.na(data1$systemic_atrophies_primarily_affecting_CNS))|\n",
    "                            (data1$postpolio_syndrome>0 & !is.na(data1$postpolio_syndrome))|\n",
    "                            (data1$parkinson>0 & !is.na(data1$parkinson))|\n",
    "                            (data1$secondary_parkinson>0 & !is.na(data1$secondary_parkinson))|\n",
    "                            (data1$parkinsonism>0 & !is.na(data1$parkinsonism))|\n",
    "                            (data1$other_deg_BG>0 & !is.na(data1$other_deg_BG))|\n",
    "                            (data1$dystonia>0 & !is.na(data1$dystonia))|\n",
    "                            (data1$other_extrapyram>0 & !is.na(data1$other_extrapyram))|\n",
    "                            (data1$alzheimer>0 & !is.na(data1$alzheimer))|\n",
    "                            (data1$other_deg_CNS_not_classified_elsewhere>0 & !is.na(data1$other_deg_CNS_not_classified_elsewhere))|\n",
    "                            (data1$other_deg_CNS_Classified_elsewhere>0 & !is.na(data1$other_deg_CNS_Classified_elsewhere))|\n",
    "                            (data1$MS>0 & !is.na(data1$MS))|\n",
    "                            (data1$other_acute_dessiminated_demyelination>0 & !is.na(data1$other_acute_dessiminated_demyelination))|\n",
    "                            (data1$other_demyelinating_disease>0 & !is.na(data1$other_demyelinating_disease))|\n",
    "                            (data1$epilepsy>0 & !is.na(data1$epilepsy))|\n",
    "                            (data1$status_epilepticus>0 & !is.na(data1$status_epilepticus))|\n",
    "                            (data1$trasient_cerebral_ischaemic_attack_and_related_S>0 & !is.na(data1$trasient_cerebral_ischaemic_attack_and_related_S))|\n",
    "                            (data1$vascular_syndrome_of_brain_in_cerebrovascular_disease>0 & !is.na(data1$vascular_syndrome_of_brain_in_cerebrovascular_disease))|\n",
    "                            (data1$toxic_encephalopathy>0 & !is.na(data1$toxic_encephalopathy))),]                                      \n",
    "        \n",
    "                "
   ]
  },
  {
   "cell_type": "code",
   "execution_count": null,
   "metadata": {},
   "outputs": [],
   "source": [
    "#Excluding participants based on exclusion criteria (EC)\n",
    "\n",
    "# data1_inclusion = data1 [!c(data1$Current_smoking==1|data1$Diabetes==1|data1$asthma==1|data1$emphysema==1|data1$chronic_brochitis==1|data1$COPD==1|data1$cystic_fibrosis==1|data1$alpha1_antitrypsin_def==1|data1$sarcoidosis==1|data1$bronchiectasis==1|data1$idiopathic_pulmonary_fibrosis==1|data1$fibrosing_alveolitis==1|data1$tuberculosis==1|data1$silicosis==1|data1$asbestosis==1|data1$lung_cancer==1|data1$mesothelioma_lung==1),]\n",
    "#data1_inclusion = data1 [!c(data1$Current_smoking==1|data1$Diabetes==1|data1$asthma==1|data1$emphysema==1|data1$chronic_brochitis==1|data1$COPD==1|data1$cystic_fibrosis==1|data1$alpha1_antitrypsin_def==1|data1$sarcoidosis==1|data1$bronchiectasis==1|data1$idiopathic_pulmonary_fibrosis==1|data1$fibrosing_alveolitis==1|data1$tuberculosis==1|data1$silicosis==1|data1$asbestosis==1|data1$lung_cancer==1|data1$mesothelioma_lung==1|data1$Stroke>0),]\n",
    "# data1_inclusion = data1 [!c(data1$Current_smoking==1|data1$Diabetes==1|data1$asthma==1|data1$emphysema==1|data1$chronic_brochitis==1|data1$COPD==1|data1$cystic_fibrosis==1|data1$alpha1_antitrypsin_def==1|data1$sarcoidosis==1|data1$bronchiectasis==1|data1$idiopathic_pulmonary_fibrosis==1|data1$fibrosing_alveolitis==1|data1$tuberculosis==1|data1$silicosis==1|data1$asbestosis==1|data1$lung_cancer==1|data1$mesothelioma_lung==1|data1$Stroke>0|data1$Ischemisk_stroke>0|data1$iodine_deficiency_related_thyroid_disorder>0|data1$subclinical_iodine_deficiency_hypothyr>0|data1$other_non_toxic_goiter>0|data1$thyrotoxicosis>0|data1$other_disorders_of_the_thyroid>0|data1$hypoparathyroidism>0|data1$hyperparathyroidism_and_other_disorders_of_the_parathyroid_gland>0|data1$Huntington>0|data1$hereditary_ataxia>0|data1$systemic_atrophies_primarily_affecting_CNS>0|data1$postpolio_syndrome>0|data1$parkinson>0|data1$secondary_parkinson>0|data1$parkinsonism>0|data1$other_deg_BG>0|data1$dystonia>0|data1$other_extrapyram>0|data1$alzheimer>0|data1$other_deg_CNS_not_classified_elsewhere>0|data1$other_deg_CNS_Classified_elsewhere>0|data1$MS>0|data1$other_acute_dessiminated_demyelination>0|data1$other_demyelinating_disease>0|data1$epilepsy>0|data1$status_epilepticus>0|data1$trasient_cerebral_ischaemic_attack_and_related_S>0|data1$vascular_syndrome_of_brain_in_cerebrovascular_disease>0|data1$toxic_encephalopathy>0),]\n",
    "\n",
    "# dim(data1_inclusion)\n",
    "# head(data1_inclusion)\n",
    "\n",
    "myvars <- c ('Sex','year_birth','month_birth','date_attending_centre','BMI','DBP_0','DBP_1','SBP_0','SBP_1','Med','SI','WMV','FA_CC','FA_IC','FA_CR','WMHV')\n",
    "data2_inclusion <- data1_inclusion[myvars]\n",
    "\n",
    "head(data2_inclusion) #alt print(data2_inclusion)\n",
    "dim(data2_inclusion)\n",
    "write.csv(data2_inclusion, \"data2_inclusion_withoutNan.csv\")"
   ]
  },
  {
   "cell_type": "code",
   "execution_count": null,
   "metadata": {},
   "outputs": [],
   "source": [
    "# Exclusion of NAN and #DIV/0!\n",
    "data2_inclusion_withoutNAN = read.csv(\"data2_inclusion_withoutNan.csv\",header = TRUE,na.strings = c(\"NA\",\"#DIV/0!\"))"
   ]
  },
  {
   "cell_type": "code",
   "execution_count": null,
   "metadata": {},
   "outputs": [],
   "source": [
    "dim(data2_inclusion_withoutNAN)\n"
   ]
  },
  {
   "cell_type": "code",
   "execution_count": null,
   "metadata": {},
   "outputs": [],
   "source": [
    "### Exclusion of Missing values\n",
    "\n",
    "data_without_missingvalues <- data2_inclusion_withoutNAN[!is.na(data2_inclusion_withoutNAN$X)&!is.na(data2_inclusion_withoutNAN$Sex)&!is.na(data2_inclusion_withoutNAN$year_birth)&!is.na(data2_inclusion_withoutNAN$month_birth)\n",
    "&!is.na(data2_inclusion_withoutNAN$date_attending_centre)&!is.na(data2_inclusion_withoutNAN$BMI)&!is.na(data2_inclusion_withoutNAN$DBP_0)\n",
    "&!is.na(data2_inclusion_withoutNAN$DBP_1)&!is.na(data2_inclusion_withoutNAN$SBP_0)\n",
    "&!is.na(data2_inclusion_withoutNAN$SBP_1)&!is.na(data2_inclusion_withoutNAN$SI)\n",
    "&!is.na(data2_inclusion_withoutNAN$WMV)\n",
    "&!is.na(data2_inclusion_withoutNAN$FA_CC)\n",
    "&!is.na(data2_inclusion_withoutNAN$FA_IC)\n",
    "&!is.na(data2_inclusion_withoutNAN$FA_CR)\n",
    "&!is.na(data2_inclusion_withoutNAN$WMHV),]\n",
    "                                                         \n",
    "\n",
    "dim(data_without_missingvalues)\n",
    "write.csv(data_without_missingvalues, \"data1_inclusion_2.csv\")\n",
    "colnames(data_without_missingvalues) \n",
    "print(data_without_missingvalues)\n"
   ]
  },
  {
   "cell_type": "markdown",
   "metadata": {},
   "source": [
    "### Coding data"
   ]
  },
  {
   "cell_type": "code",
   "execution_count": null,
   "metadata": {},
   "outputs": [],
   "source": [
    "data_without_missingvalues_update <- read.csv('data1_inclusion_2.csv')\n",
    "dim(data_without_missingvalues_update)"
   ]
  },
  {
   "cell_type": "code",
   "execution_count": null,
   "metadata": {},
   "outputs": [],
   "source": [
    "colnames(data_without_missingvalues_update)"
   ]
  },
  {
   "cell_type": "code",
   "execution_count": null,
   "metadata": {},
   "outputs": [],
   "source": [
    "data_without_missingvalues_update$SBP <- (data_without_missingvalues_update$SBP_0 + data_without_missingvalues_update$SBP_1) / 2\n",
    "data_without_missingvalues_update$DBP <- (data_without_missingvalues_update$DBP_0 + data_without_missingvalues_update$DBP_1) / 2\n",
    "\n",
    "data_without_missingvalues_update$SBP_corrected <- 3.3171+0.9201 * data_without_missingvalues_update$SBP + 6.0246 * data_without_missingvalues_update$Sex\n",
    "data_without_missingvalues_update$DBP_corrected <- 14.5647+0.8092 * data_without_missingvalues_update$DBP + 2.0108 * data_without_missingvalues_update$Sex\n",
    "\n",
    "data_without_missingvalues_update$PP <- data_without_missingvalues_update$SBP_corrected - data_without_missingvalues_update$DBP_corrected\n",
    "\n",
    "data_without_missingvalues_update$PP_index <- ((data_without_missingvalues_update$SBP_corrected - data_without_missingvalues_update$DBP_corrected) / (data_without_missingvalues_update$SBP_corrected))\n",
    "\n",
    "# we are fixing like every participants are born the first of the month\n",
    "data_without_missingvalues_update$date_birth <- as.Date(ISOdate(data_without_missingvalues_update$year_birth,data_without_missingvalues_update$month_birth,1))\n",
    "# Changing the format of date_attending_centre\n",
    "data_without_missingvalues_update$date_attending_centre <- as.Date(data_without_missingvalues_update$date_attending_centre)\n",
    "\n",
    "data_without_missingvalues_update$age <- time_length(interval(data_without_missingvalues_update$date_birth,data_without_missingvalues_update$date_attending_centre), \"years\")\n",
    "\n",
    "attach(data_without_missingvalues_update)\n",
    "print(data_without_missingvalues_update)"
   ]
  },
  {
   "cell_type": "code",
   "execution_count": null,
   "metadata": {},
   "outputs": [],
   "source": [
    "write.csv(data_without_missingvalues_update, \"data1_inclusion_2_bis.csv\")"
   ]
  },
  {
   "cell_type": "markdown",
   "metadata": {},
   "source": [
    "### Excluding outliers"
   ]
  },
  {
   "cell_type": "code",
   "execution_count": null,
   "metadata": {},
   "outputs": [],
   "source": [
    "data2 <- read.csv('data1_inclusion_2_bis.csv')\n",
    "colnames(data2)\n",
    "dim(data2)"
   ]
  },
  {
   "cell_type": "code",
   "execution_count": null,
   "metadata": {},
   "outputs": [],
   "source": [
    "# hist(data2$FA_CC)\n",
    "# hist(data2$FA_IC)\n",
    "# hist(data2$FA_CR)\n",
    "# hist(data2$WMHV)\n",
    "# hist(data2$SI)\n",
    "# hist(data2$PP)"
   ]
  },
  {
   "cell_type": "code",
   "execution_count": null,
   "metadata": {},
   "outputs": [],
   "source": [
    "colnames(data2) <- c ('X.2','X.1','X','Sex','year_birth','month_birth','date_attending_centre','BMI','DBP_0','DBP_1','SBP_0','SBP_1','Med','SI','WMV','FA_CC','FA_IC','FA_CR','WMHV','SBP','DBP','SBP_corrected','DBP_corrected','PP','PP_index','date_birth','age')\n",
    "\n",
    "# copy the data to dsBase.iqr\n",
    "dsBase.iqr <- data2\n",
    "# create a variable/collection of the column names you want to remove outliers on.\n",
    "vars <- c(\"SI\",\"PP\",\"FA_CC\",\"FA_IC\",\"FA_CR\",\"WMHV\")\n",
    "# create a variable to store the row id's to be removed\n",
    "Outliers <- c()\n",
    "# loop through the list of columns you specified\n",
    "for (i in vars) {\n",
    "# Get the Min/Max values\n",
    "max <- quantile(dsBase.iqr[,i],0.75, na.rm=TRUE) + (IQR(dsBase.iqr[,i], na.rm=TRUE) * 1.5 )\n",
    "min <- quantile(dsBase.iqr[,i],0.25, na.rm=TRUE) - (IQR(dsBase.iqr[,i], na.rm=TRUE) * 1.5 )\n",
    "# Get the id's using whic\"\n",
    "idx <- which(dsBase.iqr[,i] < min | dsBase.iqr[,i] > max)\n",
    "# Output the number of outliers in each variable\n",
    "print(paste(i, length(idx), sep=''))\n",
    "# Append the outliers list\n",
    "Outliers <- c(Outliers, idx) \n",
    "}\n",
    "cat('Outliers are: ', Outliers)\n",
    "# dsBase.iqr is the name of the database without outliers\n",
    "dsBase.iqr <- dsBase.iqr[-Outliers,]\n",
    "# visualise the new dataframe without outliers\n",
    "#dsBase.iqr\n",
    "#print.summary = TRUE\n",
    "#dim(dsBase.iqr)\n",
    "#dsBase.iqr\n",
    "length(unique(Outliers))"
   ]
  },
  {
   "cell_type": "markdown",
   "metadata": {},
   "source": [
    "### Exclude outliers"
   ]
  },
  {
   "cell_type": "code",
   "execution_count": null,
   "metadata": {},
   "outputs": [],
   "source": [
    "write.csv(dsBase.iqr, \"data1_inclusion_3.csv\")\n",
    "dim(dsBase.iqr)\n"
   ]
  },
  {
   "cell_type": "markdown",
   "metadata": {},
   "source": [
    "### Checking variables after removing outliers"
   ]
  },
  {
   "cell_type": "code",
   "execution_count": null,
   "metadata": {},
   "outputs": [],
   "source": [
    "hist(dsBase.iqr$SI)\n",
    "hist(dsBase.iqr$PP)\n",
    "hist(dsBase.iqr$FA_CC)\n",
    "hist(dsBase.iqr$FA_IC)\n",
    "hist(dsBase.iqr$FA_CR)\n",
    "hist(dsBase.iqr$WMHV)\n"
   ]
  },
  {
   "cell_type": "markdown",
   "metadata": {},
   "source": [
    "### Recoding data"
   ]
  },
  {
   "cell_type": "code",
   "execution_count": null,
   "metadata": {},
   "outputs": [],
   "source": [
    "data <- read.csv('data1_inclusion_3.csv')\n",
    "dim(data)\n",
    "# print(data)"
   ]
  },
  {
   "cell_type": "code",
   "execution_count": null,
   "metadata": {},
   "outputs": [],
   "source": [
    "class(data$Med)\n",
    "# 1: Cholsterol lowering medication, 2: Blood pressure medication, 3: Insulin, -7: None of the above, -1: Do not know, -3: Prefer not to answer. \n",
    "data$Med_plus2 <- as.numeric(data$Med == 2)\n",
    "attach(data)\n",
    "print(data)\n",
    "#dettach(data)\n",
    "write.csv(data, \"data1_inclusion_4.csv\")"
   ]
  },
  {
   "cell_type": "markdown",
   "metadata": {},
   "source": [
    "# Patients characteristics"
   ]
  },
  {
   "cell_type": "code",
   "execution_count": null,
   "metadata": {},
   "outputs": [],
   "source": [
    "data <- read.csv('data1_inclusion_4.csv')\n",
    "\n",
    "# # # #Demographics variables (sex, age)\n",
    "# female <-data$Sex==0\n",
    "# table(female)\n",
    "# male <-data$Sex==1\n",
    "# table(male)\n",
    "\n",
    "# mean(data$age)\n",
    "# sd(data$age)\n",
    "\n",
    "# #Cardiovascular variables (BMI, SBP, DBP, PP, PPi, SI)\n",
    "\n",
    "# mean(data$BMI)\n",
    "# sd(data$BMI)\n",
    "\n",
    "# mean(data$SBP_corrected)\n",
    "# sd(data$SBP_corrected)\n",
    "\n",
    "# mean(data$DBP_corrected)\n",
    "# sd(data$DBP_corrected)\n",
    "\n",
    "# mean(data$PP)\n",
    "# sd(data$PP)\n",
    "\n",
    "# mean(data$PP_index)\n",
    "# sd(data$PP_index)\n",
    "\n",
    "# mean(data$SI)\n",
    "# sd(data$SI)\n",
    "\n",
    "# # MRI variables (FA_CC, FA_IC, FA_CR, WMHV)\n",
    "\n",
    "# mean(data$FA_CC)\n",
    "# sd(data$FA_CC)\n",
    "\n",
    "# mean(data$FA_IC)\n",
    "# sd(data$FA_IC)\n",
    "\n",
    "# mean(data$FA_CR)\n",
    "# sd(data$FA_CR)\n",
    "\n",
    "# mean(data$WMH)\n",
    "# sd(data$WMH)"
   ]
  },
  {
   "cell_type": "code",
   "execution_count": null,
   "metadata": {},
   "outputs": [],
   "source": [
    "data <- read.csv('data1_inclusion_4.csv')\n",
    "dim(data)\n",
    "colnames(data)\n",
    "print(data)"
   ]
  },
  {
   "cell_type": "markdown",
   "metadata": {},
   "source": [
    "## Comparing characteristics between groups"
   ]
  },
  {
   "cell_type": "code",
   "execution_count": 2,
   "metadata": {},
   "outputs": [],
   "source": [
    "data <- read.csv('data1_inclusion_4.csv')\n"
   ]
  },
  {
   "cell_type": "code",
   "execution_count": 4,
   "metadata": {},
   "outputs": [
    {
     "data": {
      "text/plain": [
       "$BMI\n",
       "               Df Sum Sq Mean Sq F value   Pr(>F)    \n",
       "data$group      3    612  204.12   12.02 7.42e-08 ***\n",
       "Residuals   17980 305377   16.98                     \n",
       "---\n",
       "Signif. codes:  0 ‘***’ 0.001 ‘**’ 0.01 ‘*’ 0.05 ‘.’ 0.1 ‘ ’ 1\n",
       "\n",
       "$SI\n",
       "               Df Sum Sq Mean Sq F value Pr(>F)    \n",
       "data$group      3    743  247.74   34.99 <2e-16 ***\n",
       "Residuals   17980 127284    7.08                   \n",
       "---\n",
       "Signif. codes:  0 ‘***’ 0.001 ‘**’ 0.01 ‘*’ 0.05 ‘.’ 0.1 ‘ ’ 1\n",
       "\n",
       "$FA_CC\n",
       "               Df Sum Sq Mean Sq F value Pr(>F)    \n",
       "data$group      3  0.345 0.11499   270.6 <2e-16 ***\n",
       "Residuals   17980  7.642 0.00043                   \n",
       "---\n",
       "Signif. codes:  0 ‘***’ 0.001 ‘**’ 0.01 ‘*’ 0.05 ‘.’ 0.1 ‘ ’ 1\n",
       "\n",
       "$FA_IC\n",
       "               Df Sum Sq  Mean Sq F value Pr(>F)    \n",
       "data$group      3  0.061 0.020257   61.64 <2e-16 ***\n",
       "Residuals   17980  5.909 0.000329                   \n",
       "---\n",
       "Signif. codes:  0 ‘***’ 0.001 ‘**’ 0.01 ‘*’ 0.05 ‘.’ 0.1 ‘ ’ 1\n",
       "\n",
       "$WMHV\n",
       "               Df    Sum Sq   Mean Sq F value Pr(>F)    \n",
       "data$group      3 1.707e+10 5.690e+09    1156 <2e-16 ***\n",
       "Residuals   17980 8.848e+10 4.921e+06                   \n",
       "---\n",
       "Signif. codes:  0 ‘***’ 0.001 ‘**’ 0.01 ‘*’ 0.05 ‘.’ 0.1 ‘ ’ 1\n",
       "\n",
       "$SBP_corrected\n",
       "               Df  Sum Sq Mean Sq F value Pr(>F)    \n",
       "data$group      3  307192  102397   395.3 <2e-16 ***\n",
       "Residuals   17980 4657725     259                   \n",
       "---\n",
       "Signif. codes:  0 ‘***’ 0.001 ‘**’ 0.01 ‘*’ 0.05 ‘.’ 0.1 ‘ ’ 1\n",
       "\n",
       "$DBP_corrected\n",
       "               Df  Sum Sq Mean Sq F value   Pr(>F)    \n",
       "data$group      3    4218  1405.9   20.79 1.92e-13 ***\n",
       "Residuals   17980 1215699    67.6                     \n",
       "---\n",
       "Signif. codes:  0 ‘***’ 0.001 ‘**’ 0.01 ‘*’ 0.05 ‘.’ 0.1 ‘ ’ 1\n",
       "\n",
       "$PP\n",
       "               Df  Sum Sq Mean Sq F value Pr(>F)    \n",
       "data$group      3  368735  122912     929 <2e-16 ***\n",
       "Residuals   17980 2378975     132                   \n",
       "---\n",
       "Signif. codes:  0 ‘***’ 0.001 ‘**’ 0.01 ‘*’ 0.05 ‘.’ 0.1 ‘ ’ 1\n",
       "\n",
       "$age\n",
       "               Df Sum Sq Mean Sq F value Pr(>F)    \n",
       "data$group      3 839089  279696   40945 <2e-16 ***\n",
       "Residuals   17980 122821       7                   \n",
       "---\n",
       "Signif. codes:  0 ‘***’ 0.001 ‘**’ 0.01 ‘*’ 0.05 ‘.’ 0.1 ‘ ’ 1\n"
      ]
     },
     "metadata": {},
     "output_type": "display_data"
    },
    {
     "data": {
      "text/html": [
       "0"
      ],
      "text/latex": [
       "0"
      ],
      "text/markdown": [
       "0"
      ],
      "text/plain": [
       "[1] 0"
      ]
     },
     "metadata": {},
     "output_type": "display_data"
    },
    {
     "data": {
      "text/html": [
       "7.42077298142662e-08"
      ],
      "text/latex": [
       "7.42077298142662e-08"
      ],
      "text/markdown": [
       "7.42077298142662e-08"
      ],
      "text/plain": [
       "[1] 7.420773e-08"
      ]
     },
     "metadata": {},
     "output_type": "display_data"
    },
    {
     "data": {
      "text/html": [
       "1.14677362898914e-248"
      ],
      "text/latex": [
       "1.14677362898914e-248"
      ],
      "text/markdown": [
       "1.14677362898914e-248"
      ],
      "text/plain": [
       "[1] 1.146774e-248"
      ]
     },
     "metadata": {},
     "output_type": "display_data"
    },
    {
     "data": {
      "text/plain": [
       "$BMI\n",
       "  Tukey multiple comparisons of means\n",
       "    95% family-wise confidence level\n",
       "\n",
       "Fit: aov(formula = x ~ data$group)\n",
       "\n",
       "$`data$group`\n",
       "          diff        lwr         upr     p adj\n",
       "2-1 -0.0409158 -0.2701140  0.18828239 0.9679508\n",
       "3-1 -0.3351732 -0.5664606 -0.10388580 0.0011305\n",
       "4-1 -0.6940292 -1.1176626 -0.27039578 0.0001512\n",
       "3-2 -0.2942574 -0.4721717 -0.11634300 0.0001267\n",
       "4-2 -0.6531134 -1.0501334 -0.25609331 0.0001401\n",
       "4-3 -0.3588560 -0.7570858  0.03937379 0.0945764\n",
       "\n",
       "\n",
       "$SI\n",
       "  Tukey multiple comparisons of means\n",
       "    95% family-wise confidence level\n",
       "\n",
       "Fit: aov(formula = x ~ data$group)\n",
       "\n",
       "$`data$group`\n",
       "           diff         lwr       upr     p adj\n",
       "2-1  0.39769935  0.24972726 0.5456714 0.0000000\n",
       "3-1  0.59265496  0.44333408 0.7419758 0.0000000\n",
       "4-1  0.49661183  0.22311090 0.7701128 0.0000185\n",
       "3-2  0.19495560  0.08009274 0.3098185 0.0000769\n",
       "4-2  0.09891248 -0.15740668 0.3552316 0.7543119\n",
       "4-3 -0.09604312 -0.35314329 0.1610570 0.7722990\n",
       "\n",
       "\n",
       "$FA_CC\n",
       "  Tukey multiple comparisons of means\n",
       "    95% family-wise confidence level\n",
       "\n",
       "Fit: aov(formula = x ~ data$group)\n",
       "\n",
       "$`data$group`\n",
       "            diff          lwr          upr p adj\n",
       "2-1 -0.003763382 -0.004909945 -0.002616820     0\n",
       "3-1 -0.009890184 -0.011047197 -0.008733170     0\n",
       "4-1 -0.017032093 -0.019151316 -0.014912869     0\n",
       "3-2 -0.006126801 -0.007016817 -0.005236786     0\n",
       "4-2 -0.013268710 -0.015254801 -0.011282620     0\n",
       "4-3 -0.007141909 -0.009134051 -0.005149767     0\n",
       "\n",
       "\n",
       "$FA_IC\n",
       "  Tukey multiple comparisons of means\n",
       "    95% family-wise confidence level\n",
       "\n",
       "Fit: aov(formula = x ~ data$group)\n",
       "\n",
       "$`data$group`\n",
       "             diff          lwr          upr     p adj\n",
       "2-1 -0.0030584232 -0.004066662 -0.002050185 0.0000000\n",
       "3-1 -0.0051258186 -0.006143247 -0.004108390 0.0000000\n",
       "4-1 -0.0058289560 -0.007692511 -0.003965401 0.0000000\n",
       "3-2 -0.0020673954 -0.002850037 -0.001284754 0.0000000\n",
       "4-2 -0.0027705328 -0.004517016 -0.001024049 0.0002690\n",
       "4-3 -0.0007031374 -0.002454943  0.001048668 0.7310881\n",
       "\n",
       "\n",
       "$WMHV\n",
       "  Tukey multiple comparisons of means\n",
       "    95% family-wise confidence level\n",
       "\n",
       "Fit: aov(formula = x ~ data$group)\n",
       "\n",
       "$`data$group`\n",
       "         diff       lwr      upr p adj\n",
       "2-1  900.2297  776.8598 1023.600     0\n",
       "3-1 2298.5385 2174.0440 2423.033     0\n",
       "4-1 3591.5827 3363.5547 3819.611     0\n",
       "3-2 1398.3088 1302.5433 1494.074     0\n",
       "4-2 2691.3530 2477.6501 2905.056     0\n",
       "4-3 1293.0442 1078.6901 1507.398     0\n",
       "\n",
       "\n",
       "$SBP_corrected\n",
       "  Tukey multiple comparisons of means\n",
       "    95% family-wise confidence level\n",
       "\n",
       "Fit: aov(formula = x ~ data$group)\n",
       "\n",
       "$`data$group`\n",
       "         diff       lwr       upr   p adj\n",
       "2-1  4.982901  4.087784  5.878017 0.0e+00\n",
       "3-1 10.741505  9.838229 11.644780 0.0e+00\n",
       "4-1 13.646818 11.992349 15.301287 0.0e+00\n",
       "3-2  5.758604  5.063773  6.453436 0.0e+00\n",
       "4-2  8.663917  7.113385 10.214449 0.0e+00\n",
       "4-3  2.905313  1.350056  4.460570 9.6e-06\n",
       "\n",
       "\n",
       "$DBP_corrected\n",
       "  Tukey multiple comparisons of means\n",
       "    95% family-wise confidence level\n",
       "\n",
       "Fit: aov(formula = x ~ data$group)\n",
       "\n",
       "$`data$group`\n",
       "          diff        lwr        upr     p adj\n",
       "2-1  0.2008035 -0.2565012  0.6581082 0.6720904\n",
       "3-1 -0.6092506 -1.0707237 -0.1477775 0.0038793\n",
       "4-1 -1.7046585 -2.5499075 -0.8594095 0.0000014\n",
       "3-2 -0.8100541 -1.1650354 -0.4550728 0.0000001\n",
       "4-2 -1.9054620 -2.6976111 -1.1133129 0.0000000\n",
       "4-3 -1.0954079 -1.8899707 -0.3008452 0.0022508\n",
       "\n",
       "\n",
       "$PP\n",
       "  Tukey multiple comparisons of means\n",
       "    95% family-wise confidence level\n",
       "\n",
       "Fit: aov(formula = x ~ data$group)\n",
       "\n",
       "$`data$group`\n",
       "         diff       lwr       upr p adj\n",
       "2-1  4.782097  4.142381  5.421814     0\n",
       "3-1 11.350755 10.705208 11.996303     0\n",
       "4-1 15.351476 14.169070 16.533882     0\n",
       "3-2  6.568658  6.072080  7.065236     0\n",
       "4-2 10.569379  9.461254 11.677504     0\n",
       "4-3  4.000721  2.889219  5.112223     0\n",
       "\n",
       "\n",
       "$age\n",
       "  Tukey multiple comparisons of means\n",
       "    95% family-wise confidence level\n",
       "\n",
       "Fit: aov(formula = x ~ data$group)\n",
       "\n",
       "$`data$group`\n",
       "         diff       lwr       upr p adj\n",
       "2-1  8.108249  7.962895  8.253604     0\n",
       "3-1 17.206628 17.059949 17.353308     0\n",
       "4-1 24.722042 24.453379 24.990705     0\n",
       "3-2  9.098379  8.985548  9.211210     0\n",
       "4-2 16.613793 16.362008 16.865578     0\n",
       "4-3  7.515414  7.262862  7.767966     0\n",
       "\n"
      ]
     },
     "metadata": {},
     "output_type": "display_data"
    },
    {
     "data": {
      "text/html": [
       "<dl class=dl-horizontal>\n",
       "\t<dt>2-1</dt>\n",
       "\t\t<dd>3.35071725920955e-08</dd>\n",
       "\t<dt>3-1</dt>\n",
       "\t\t<dd>3.35071725920955e-08</dd>\n",
       "\t<dt>4-1</dt>\n",
       "\t\t<dd>3.35071725920955e-08</dd>\n",
       "\t<dt>3-2</dt>\n",
       "\t\t<dd>3.35071725920955e-08</dd>\n",
       "\t<dt>4-2</dt>\n",
       "\t\t<dd>3.35071725920955e-08</dd>\n",
       "\t<dt>4-3</dt>\n",
       "\t\t<dd>3.35071725920955e-08</dd>\n",
       "</dl>\n"
      ],
      "text/latex": [
       "\\begin{description*}\n",
       "\\item[2-1] 3.35071725920955e-08\n",
       "\\item[3-1] 3.35071725920955e-08\n",
       "\\item[4-1] 3.35071725920955e-08\n",
       "\\item[3-2] 3.35071725920955e-08\n",
       "\\item[4-2] 3.35071725920955e-08\n",
       "\\item[4-3] 3.35071725920955e-08\n",
       "\\end{description*}\n"
      ],
      "text/markdown": [
       "2-1\n",
       ":   3.35071725920955e-083-1\n",
       ":   3.35071725920955e-084-1\n",
       ":   3.35071725920955e-083-2\n",
       ":   3.35071725920955e-084-2\n",
       ":   3.35071725920955e-084-3\n",
       ":   3.35071725920955e-08\n",
       "\n"
      ],
      "text/plain": [
       "         2-1          3-1          4-1          3-2          4-2          4-3 \n",
       "3.350717e-08 3.350717e-08 3.350717e-08 3.350717e-08 3.350717e-08 3.350717e-08 "
      ]
     },
     "metadata": {},
     "output_type": "display_data"
    },
    {
     "data": {
      "text/html": [
       "<dl class=dl-horizontal>\n",
       "\t<dt>2-1</dt>\n",
       "\t\t<dd>0.967950770157991</dd>\n",
       "\t<dt>3-1</dt>\n",
       "\t\t<dd>0.00113050499480249</dd>\n",
       "\t<dt>4-1</dt>\n",
       "\t\t<dd>0.000151195947369676</dd>\n",
       "\t<dt>3-2</dt>\n",
       "\t\t<dd>0.000126652990543152</dd>\n",
       "\t<dt>4-2</dt>\n",
       "\t\t<dd>0.000140085101450471</dd>\n",
       "\t<dt>4-3</dt>\n",
       "\t\t<dd>0.094576351047029</dd>\n",
       "</dl>\n"
      ],
      "text/latex": [
       "\\begin{description*}\n",
       "\\item[2-1] 0.967950770157991\n",
       "\\item[3-1] 0.00113050499480249\n",
       "\\item[4-1] 0.000151195947369676\n",
       "\\item[3-2] 0.000126652990543152\n",
       "\\item[4-2] 0.000140085101450471\n",
       "\\item[4-3] 0.094576351047029\n",
       "\\end{description*}\n"
      ],
      "text/markdown": [
       "2-1\n",
       ":   0.9679507701579913-1\n",
       ":   0.001130504994802494-1\n",
       ":   0.0001511959473696763-2\n",
       ":   0.0001266529905431524-2\n",
       ":   0.0001400851014504714-3\n",
       ":   0.094576351047029\n",
       "\n"
      ],
      "text/plain": [
       "         2-1          3-1          4-1          3-2          4-2          4-3 \n",
       "0.9679507702 0.0011305050 0.0001511959 0.0001266530 0.0001400851 0.0945763510 "
      ]
     },
     "metadata": {},
     "output_type": "display_data"
    },
    {
     "data": {
      "text/html": [
       "<dl class=dl-horizontal>\n",
       "\t<dt>2-1</dt>\n",
       "\t\t<dd>3.35071725920955e-08</dd>\n",
       "\t<dt>3-1</dt>\n",
       "\t\t<dd>3.35071725920955e-08</dd>\n",
       "\t<dt>4-1</dt>\n",
       "\t\t<dd>3.35071725920955e-08</dd>\n",
       "\t<dt>3-2</dt>\n",
       "\t\t<dd>3.35071725920955e-08</dd>\n",
       "\t<dt>4-2</dt>\n",
       "\t\t<dd>3.35071725920955e-08</dd>\n",
       "\t<dt>4-3</dt>\n",
       "\t\t<dd>9.57255650657629e-06</dd>\n",
       "</dl>\n"
      ],
      "text/latex": [
       "\\begin{description*}\n",
       "\\item[2-1] 3.35071725920955e-08\n",
       "\\item[3-1] 3.35071725920955e-08\n",
       "\\item[4-1] 3.35071725920955e-08\n",
       "\\item[3-2] 3.35071725920955e-08\n",
       "\\item[4-2] 3.35071725920955e-08\n",
       "\\item[4-3] 9.57255650657629e-06\n",
       "\\end{description*}\n"
      ],
      "text/markdown": [
       "2-1\n",
       ":   3.35071725920955e-083-1\n",
       ":   3.35071725920955e-084-1\n",
       ":   3.35071725920955e-083-2\n",
       ":   3.35071725920955e-084-2\n",
       ":   3.35071725920955e-084-3\n",
       ":   9.57255650657629e-06\n",
       "\n"
      ],
      "text/plain": [
       "         2-1          3-1          4-1          3-2          4-2          4-3 \n",
       "3.350717e-08 3.350717e-08 3.350717e-08 3.350717e-08 3.350717e-08 9.572557e-06 "
      ]
     },
     "metadata": {},
     "output_type": "display_data"
    }
   ],
   "source": [
    "\n",
    "data$group[data$age>=45 & data$age<55] <- 1\n",
    "data$group[data$age>=55 & data$age<65] <- 2\n",
    "data$group[data$age>=65 & data$age<75] <- 3\n",
    "data$group[data$age>=75] <- 4\n",
    "data$group <- as.factor(data$group)\n",
    "\n",
    "## For continuous variables\n",
    "## Anovas to get the global p-values\n",
    "anovas <- lapply(data[,names(data) %in% c(\"age\", \"BMI\", \"SBP_corrected\", \"DBP_corrected\", \"PP\",\n",
    "                                          \"SI\", \"FA_CC\", \"FA_IC\", \"WMHV\")],\n",
    "                 function(x){aov(x ~ data$group)})\n",
    "\n",
    "global.pvalues <- lapply(anovas, summary)\n",
    "global.pvalues\n",
    "## To extract the global p-value of \"age\"\n",
    "lapply(anovas, summary)$age[[1]][[\"Pr(>F)\"]][1]\n",
    "## To extract the global p-value of \"BMI\"\n",
    "lapply(anovas, summary)$BMI[[1]][[\"Pr(>F)\"]][1]\n",
    "## To extract the global p-value of \"SBP_corrected\"\n",
    "lapply(anovas, summary)$SBP_corrected[[1]][[\"Pr(>F)\"]][1]\n",
    "## etc.\n",
    "\n",
    "## 2x2 post-hoc tests, using Tukey HSD correction\n",
    "anovas.posthoc <- lapply(anovas,TukeyHSD)\n",
    "anovas.posthoc\n",
    "## To extract 2x2 post-hoc p-values\n",
    "anovas.posthoc$age$`data$group`[,4]\n",
    "anovas.posthoc$BMI$`data$group`[,4]\n",
    "anovas.posthoc$SBP_corrected$`data$group`[,4]\n",
    "## etc.\n"
   ]
  },
  {
   "cell_type": "code",
   "execution_count": 5,
   "metadata": {},
   "outputs": [
    {
     "data": {
      "text/html": [
       "17984"
      ],
      "text/latex": [
       "17984"
      ],
      "text/markdown": [
       "17984"
      ],
      "text/plain": [
       "[1] 17984"
      ]
     },
     "metadata": {},
     "output_type": "display_data"
    },
    {
     "data": {
      "text/html": [
       "17984"
      ],
      "text/latex": [
       "17984"
      ],
      "text/markdown": [
       "17984"
      ],
      "text/plain": [
       "[1] 17984"
      ]
     },
     "metadata": {},
     "output_type": "display_data"
    }
   ],
   "source": [
    "length(data$Sex)\n",
    "length(data$group)"
   ]
  },
  {
   "cell_type": "code",
   "execution_count": 6,
   "metadata": {},
   "outputs": [
    {
     "data": {
      "text/plain": [
       "\n",
       "\tPearson's Chi-squared test\n",
       "\n",
       "data:  table(data$Sex, data$group)\n",
       "X-squared = 106.51, df = 3, p-value < 2.2e-16\n"
      ]
     },
     "metadata": {},
     "output_type": "display_data"
    },
    {
     "data": {
      "text/html": [
       "<table>\n",
       "<caption>A data.frame: 4 × 6</caption>\n",
       "<thead>\n",
       "\t<tr><th scope=col>Dimension</th><th scope=col>Value</th><th scope=col>1</th><th scope=col>2</th><th scope=col>3</th><th scope=col>4</th></tr>\n",
       "\t<tr><th scope=col>&lt;chr&gt;</th><th scope=col>&lt;chr&gt;</th><th scope=col>&lt;chr&gt;</th><th scope=col>&lt;chr&gt;</th><th scope=col>&lt;chr&gt;</th><th scope=col>&lt;chr&gt;</th></tr>\n",
       "</thead>\n",
       "<tbody>\n",
       "\t<tr><td>0</td><td>Residuals</td><td>3.63616182221774 </td><td>6.18053550072631 </td><td>-5.97142196669314</td><td>-7.28907140514485</td></tr>\n",
       "\t<tr><td>0</td><td>p values </td><td>6e-04*           </td><td>0*               </td><td>0*               </td><td>0*               </td></tr>\n",
       "\t<tr><td>1</td><td>Residuals</td><td>-3.63616182221774</td><td>-6.18053550072631</td><td>5.97142196669314 </td><td>7.28907140514485 </td></tr>\n",
       "\t<tr><td>1</td><td>p values </td><td>6e-04*           </td><td>0*               </td><td>0*               </td><td>0*               </td></tr>\n",
       "</tbody>\n",
       "</table>\n"
      ],
      "text/latex": [
       "A data.frame: 4 × 6\n",
       "\\begin{tabular}{r|llllll}\n",
       " Dimension & Value & 1 & 2 & 3 & 4\\\\\n",
       " <chr> & <chr> & <chr> & <chr> & <chr> & <chr>\\\\\n",
       "\\hline\n",
       "\t 0 & Residuals & 3.63616182221774  & 6.18053550072631  & -5.97142196669314 & -7.28907140514485\\\\\n",
       "\t 0 & p values  & 6e-04*            & 0*                & 0*                & 0*               \\\\\n",
       "\t 1 & Residuals & -3.63616182221774 & -6.18053550072631 & 5.97142196669314  & 7.28907140514485 \\\\\n",
       "\t 1 & p values  & 6e-04*            & 0*                & 0*                & 0*               \\\\\n",
       "\\end{tabular}\n"
      ],
      "text/markdown": [
       "\n",
       "A data.frame: 4 × 6\n",
       "\n",
       "| Dimension &lt;chr&gt; | Value &lt;chr&gt; | 1 &lt;chr&gt; | 2 &lt;chr&gt; | 3 &lt;chr&gt; | 4 &lt;chr&gt; |\n",
       "|---|---|---|---|---|---|\n",
       "| 0 | Residuals | 3.63616182221774  | 6.18053550072631  | -5.97142196669314 | -7.28907140514485 |\n",
       "| 0 | p values  | 6e-04*            | 0*                | 0*                | 0*                |\n",
       "| 1 | Residuals | -3.63616182221774 | -6.18053550072631 | 5.97142196669314  | 7.28907140514485  |\n",
       "| 1 | p values  | 6e-04*            | 0*                | 0*                | 0*                |\n",
       "\n"
      ],
      "text/plain": [
       "  Dimension Value     1                 2                 3                \n",
       "1 0         Residuals 3.63616182221774  6.18053550072631  -5.97142196669314\n",
       "2 0         p values  6e-04*            0*                0*               \n",
       "3 1         Residuals -3.63616182221774 -6.18053550072631 5.97142196669314 \n",
       "4 1         p values  6e-04*            0*                0*               \n",
       "  4                \n",
       "1 -7.28907140514485\n",
       "2 0*               \n",
       "3 7.28907140514485 \n",
       "4 0*               "
      ]
     },
     "metadata": {},
     "output_type": "display_data"
    }
   ],
   "source": [
    "## For the binary variable Sex\n",
    "## Chi-square test for global p-value\n",
    "chisq.test(table(data$Sex,data$group))\n",
    "## F Residuals: the z-score of each group\n",
    "## p-values: p-value of the residuals - if significant, this group is different from the others\n",
    "## Method: Benjamini & Hochberg (1995) (\"BH\" or its alias \"fdr\")\n",
    "chisq.posthoc.test(table(data$Sex,data$group), method = \"BH\")\n"
   ]
  },
  {
   "cell_type": "markdown",
   "metadata": {},
   "source": [
    "### <font color=\"Teal\"> STEP 1: Stepwise linear regression among indexes of arterial stiffness (SI, PP) on our MRI metrics (FA_CC, FA_IC, FA_CR, WMHV) </font> "
   ]
  },
  {
   "cell_type": "markdown",
   "metadata": {},
   "source": [
    "This analysis was actually done on SPSS which allow to obtain a computed F-change p value, which was reported \n",
    "in the manuscript. Another way to do the the stepwise linear regression is presented below"
   ]
  },
  {
   "cell_type": "code",
   "execution_count": null,
   "metadata": {},
   "outputs": [],
   "source": [
    "#1.1: Stepwise linear regression with FA_CC as dependent variable\n",
    "model_FA_CC <- lm(data$FA_CC ~ data$age + data$Sex + data$SI + data$PP,data= data)\n",
    "ols_step_forward_p(model_FA_CC, details=TRUE)\n",
    "summary(model_FA_CC)\n"
   ]
  },
  {
   "cell_type": "code",
   "execution_count": null,
   "metadata": {},
   "outputs": [],
   "source": [
    "#1.2: Stepwise linear regression with FA_IC as dependent variable\n",
    "model_FA_IC <- lm(data$FA_IC ~ data$age + data$Sex + data$SI + data$PP + data$PP_index,data= data)\n",
    "ols_step_forward_p(model_FA_IC, details=TRUE)\n",
    "summary(model_FA_IC)\n"
   ]
  },
  {
   "cell_type": "code",
   "execution_count": null,
   "metadata": {},
   "outputs": [],
   "source": [
    "#1.3: Stepwise linear regression with FA_CR as dependent variable\n",
    "model_FA_IC <- lm(data$FA_IC ~ data$age + data$Sex + data$SI + data$PP + data$PP_index,data= data)\n",
    "ols_step_forward_p(model_FA_IC, details=TRUE)\n",
    "summary(model_FA_IC)"
   ]
  },
  {
   "cell_type": "code",
   "execution_count": null,
   "metadata": {},
   "outputs": [],
   "source": [
    "#1.4: Stepwise linear regression with WMHV as dependent variable\n",
    "model_WMHV <- lm(data$WMHV ~ data$age + data$Sex + data$SI + data$PP + data$PP_index,data= data)\n",
    "ols_step_forward_p(model_WMHV, details=TRUE)\n",
    "summary(model_WMHV)"
   ]
  },
  {
   "cell_type": "markdown",
   "metadata": {},
   "source": [
    "### <font color=\"Teal\"> STEP 2: A closer look at the association between PP and SI with our MRI metrics of interest with respect to different age groups </font> "
   ]
  },
  {
   "cell_type": "markdown",
   "metadata": {},
   "source": [
    "## Definning age groups"
   ]
  },
  {
   "cell_type": "code",
   "execution_count": null,
   "metadata": {},
   "outputs": [],
   "source": [
    "data <- read.csv('data1_inclusion_4.csv')\n",
    "dim(data)\n"
   ]
  },
  {
   "cell_type": "code",
   "execution_count": null,
   "metadata": {},
   "outputs": [],
   "source": [
    "## Scatter plots for the purpose of the discussion\n",
    "\n",
    "gplotX <- ggplot(data, aes(x=data$age, y=data$SI)) + geom_point (size=.4) + geom_smooth(method=lm, se=FALSE) +theme_bw() + theme(text = element_text(size=20)) + xlab(\"age\") + ylab(\"SI\")\n",
    "gplotY <- ggplot(data, aes(x=data$age, y=data$PP)) + geom_point (size=.4) + geom_smooth(method=lm, se=FALSE) +theme_bw() + theme(text = element_text(size=20)) + xlab(\"age\") + ylab(\"PP\")\n",
    "gplotYY <- ggplot(data, aes(x=data$age, y=data$WMHV)) + geom_point (size=.4) + geom_smooth(method=lm, se=FALSE) +theme_bw() + theme(text = element_text(size=20)) + xlab(\"age\") + ylab(\"WMHV\")\n",
    "gplotYYY <- ggplot(data, aes(x=data$age, y=data$FA_CC)) + geom_point (size=.4) + geom_smooth(method=lm, se=FALSE) +theme_bw() + theme(text = element_text(size=20)) + xlab(\"age\") + ylab(\"FA_CC\")\n",
    "\n",
    "\n",
    "ggplotly(gplotX)\n",
    "# ggplotly(gplotY)\n",
    "# ggplotly(gplotYY)\n",
    "ggplotly(gplotYYY)\n"
   ]
  },
  {
   "cell_type": "code",
   "execution_count": null,
   "metadata": {},
   "outputs": [],
   "source": [
    "# print(data$age)\n",
    "\n",
    "gplot_agePP <- ggplot(data, aes(x=data$age, y=data$PP)) + geom_point (size=.4) + geom_smooth(method=lm, se=FALSE) +theme_bw() + theme(text = element_text(size=20)) + xlab(\"age\") + ylab(\"PP\")\n",
    "ggplotly(gplot_agePP)\n",
    "\n",
    "gplot_ageSI <- ggplot(data, aes(x=data$age, y=data$SI)) + geom_point (size=.4) + geom_smooth(method=lm, se=FALSE) +theme_bw() + theme(text = element_text(size=20)) + xlab(\"age\") + ylab(\"SI\")\n",
    "ggplotly(gplot_ageSI)\n"
   ]
  },
  {
   "cell_type": "markdown",
   "metadata": {},
   "source": [
    "## Groupe 1: 45-55 years "
   ]
  },
  {
   "cell_type": "code",
   "execution_count": null,
   "metadata": {},
   "outputs": [],
   "source": [
    "#Excluding participants based on exclusion criteria (EC)\n",
    "data4555_inclusion = data [c(data$age>=45 & data$age<55),]\n",
    "\n",
    "#print(data4555_inclusion)\n",
    "dim(data4555_inclusion)\n",
    "\n",
    "write.csv(data4555_inclusion, \"data4555_inclusion.csv\")\n"
   ]
  },
  {
   "cell_type": "code",
   "execution_count": null,
   "metadata": {},
   "outputs": [],
   "source": [
    "# READ THE DATA\n",
    "data <- read.csv('data4555_inclusion.csv')\n",
    "dim(data)\n"
   ]
  },
  {
   "cell_type": "code",
   "execution_count": null,
   "metadata": {},
   "outputs": [],
   "source": [
    "## Partial correlation\n",
    "\n",
    "pcor.test(data$PP, data$FA_CC, data$Sex, method = c(\"spearman\"))\n",
    "pcor.test(data$SI, data$FA_CC, data$Sex, method = c(\"spearman\"))\n",
    "\n",
    "# pcor.test(data$PP, data$WMHV, data$Sex, method = c(\"spearman\"))\n",
    "# pcor.test(data$SI, data$WMHV, data$Sex, method = c(\"spearman\"))"
   ]
  },
  {
   "cell_type": "code",
   "execution_count": null,
   "metadata": {},
   "outputs": [],
   "source": [
    "gplotX1 <- ggplot(data, aes(x=data$PP, y=data$FA_CC)) + geom_point (size=.4) + geom_smooth(method=lm, se=FALSE) +theme_bw() + theme(text = element_text(size=20)) + xlab(\"PP\") + ylab(\"FA_CC\")\n",
    "\n",
    "gplotX2 <- ggplot(data, aes(x=data$SI, y=data$FA_CC)) + geom_point (size=.4) + geom_smooth(method=lm, se=FALSE) +theme_bw() + theme(text = element_text(size=20)) + xlab(\"SI\") + ylab(\"FA_CC\")\n",
    "\n",
    "gplotX3 <- ggplot(data, aes(x=data$PP, y=data$WMHV)) + geom_point (size=.4) + geom_smooth(method=lm, se=FALSE) +theme_bw() + theme(text = element_text(size=20)) + xlab(\"PP\") + ylab(\"WMHV\")\n",
    "\n",
    "gplotX4 <- ggplot(data, aes(x=data$SI, y=data$WMHV)) + geom_point (size=.4) + geom_smooth(method=lm, se=FALSE) +theme_bw() + theme(text = element_text(size=20)) + xlab(\"SI\") + ylab(\"WMHV\")\n"
   ]
  },
  {
   "cell_type": "code",
   "execution_count": null,
   "metadata": {},
   "outputs": [],
   "source": [
    "# ggplotly(gplotX1)\n",
    "# ggplotly(gplotX2)\n",
    "# ggplotly(gplotX3)\n",
    "# ggplotly(gplotX4)"
   ]
  },
  {
   "cell_type": "code",
   "execution_count": null,
   "metadata": {},
   "outputs": [],
   "source": [
    "## Participants characteristics\n",
    "\n",
    "data <- read.csv('data4555_inclusion.csv')\n",
    "\n",
    "# # # #Demographics variables (sex, age)\n",
    "# female <-data$Sex==0\n",
    "# table(female)\n",
    "# male <-data$Sex==1\n",
    "# table(male)\n",
    "\n",
    "# mean(data$age)\n",
    "# sd(data$age)\n",
    "\n",
    "# #Cardiovascular variables (BMI, SBP, DBP, PP, PPi, SI)\n",
    "\n",
    "# mean(data$BMI)\n",
    "# sd(data$BMI)\n",
    "\n",
    "# mean(data$SBP_corrected)\n",
    "# sd(data$SBP_corrected)\n",
    "\n",
    "# mean(data$DBP_corrected)\n",
    "# sd(data$DBP_corrected)\n",
    "\n",
    "# mean(data$PP)\n",
    "# sd(data$PP)\n",
    "\n",
    "# mean(data$SI)\n",
    "# sd(data$SI)\n",
    "\n",
    "# # MRI variables (FA_CC, FA_IC, FA_CR, WMHV)\n",
    "\n",
    "mean(data$FA_CC)\n",
    "sd(data$FA_CC)\n",
    "\n",
    "mean(data$FA_IC)\n",
    "sd(data$FA_IC)\n",
    "\n",
    "mean(data$FA_CR)\n",
    "sd(data$FA_CR)\n",
    "\n",
    "mean(data$WMH)\n",
    "sd(data$WMH)\n"
   ]
  },
  {
   "cell_type": "markdown",
   "metadata": {},
   "source": [
    "## Groupe 2: 55-65 years "
   ]
  },
  {
   "cell_type": "code",
   "execution_count": null,
   "metadata": {},
   "outputs": [],
   "source": [
    "data <- read.csv('data1_inclusion_4.csv')\n",
    "dim(data)\n"
   ]
  },
  {
   "cell_type": "code",
   "execution_count": null,
   "metadata": {},
   "outputs": [],
   "source": [
    "#Excluding participants based on exclusion criteria (EC)\n",
    "data5565_inclusion = data [c(data$age>=55 & data$age<65),]\n",
    "\n",
    "#print(data5565_inclusion)\n",
    "dim(data5565_inclusion)\n",
    "\n",
    "write.csv(data5565_inclusion, \"data5565_inclusion.csv\")"
   ]
  },
  {
   "cell_type": "code",
   "execution_count": null,
   "metadata": {},
   "outputs": [],
   "source": [
    "# READ THE DATA\n",
    "data <- read.csv('data5565_inclusion.csv')\n",
    "dim(data)\n"
   ]
  },
  {
   "cell_type": "code",
   "execution_count": null,
   "metadata": {},
   "outputs": [],
   "source": [
    "## Partial correlation\n",
    "\n",
    "# pcor.test(data$PP, data$FA_CC, data$Sex, method = c(\"spearman\"))\n",
    "# pcor.test(data$SI, data$FA_CC, data$Sex, method = c(\"spearman\"))\n",
    "\n",
    "pcor.test(data$PP, data$WMHV, data$Sex, method = c(\"spearman\"))\n",
    "pcor.test(data$SI, data$WMHV, data$Sex, method = c(\"spearman\"))"
   ]
  },
  {
   "cell_type": "code",
   "execution_count": null,
   "metadata": {},
   "outputs": [],
   "source": [
    "gplotX1 <- ggplot(data, aes(x=data$PP, y=data$FA_CC)) + geom_point (size=.4) + geom_smooth(method=lm, se=FALSE) +theme_bw() + theme(text = element_text(size=20)) + xlab(\"PP\") + ylab(\"FA_CC\")\n",
    "\n",
    "gplotX2 <- ggplot(data, aes(x=data$SI, y=data$FA_CC)) + geom_point (size=.4) + geom_smooth(method=lm, se=FALSE) +theme_bw() + theme(text = element_text(size=20)) + xlab(\"SI\") + ylab(\"FA_CC\")\n",
    "\n",
    "gplotX3 <- ggplot(data, aes(x=data$PP, y=data$WMHV)) + geom_point (size=.4) + geom_smooth(method=lm, se=FALSE) +theme_bw() + theme(text = element_text(size=20)) + xlab(\"PP\") + ylab(\"WMHV\")\n",
    "\n",
    "gplotX4 <- ggplot(data, aes(x=data$SI, y=data$WMHV)) + geom_point (size=.4) + geom_smooth(method=lm, se=FALSE) +theme_bw() + theme(text = element_text(size=20)) + xlab(\"SI\") + ylab(\"WMHV\")\n"
   ]
  },
  {
   "cell_type": "code",
   "execution_count": null,
   "metadata": {},
   "outputs": [],
   "source": [
    "#  ggplotly(gplotX1)\n",
    "#  ggplotly(gplotX2)\n",
    "#  ggplotly(gplotX3)\n",
    "#  ggplotly(gplotX4)"
   ]
  },
  {
   "cell_type": "code",
   "execution_count": null,
   "metadata": {},
   "outputs": [],
   "source": [
    "## Participants characteristics\n",
    "\n",
    "data <- read.csv('data5565_inclusion.csv')\n",
    "\n",
    "# # # #Demographics variables (sex, age)\n",
    "# female <-data$Sex==0\n",
    "# table(female)\n",
    "# male <-data$Sex==1\n",
    "# table(male)\n",
    "\n",
    "# mean(data$age)\n",
    "# sd(data$age)\n",
    "\n",
    "# #Cardiovascular variables (BMI, SBP, DBP, PP, PPi, SI)\n",
    "\n",
    "# mean(data$BMI)\n",
    "# sd(data$BMI)\n",
    "\n",
    "# mean(data$SBP_corrected)\n",
    "# sd(data$SBP_corrected)\n",
    "\n",
    "# mean(data$DBP_corrected)\n",
    "# sd(data$DBP_corrected)\n",
    "\n",
    "# mean(data$PP)\n",
    "# sd(data$PP)\n",
    "\n",
    "# mean(data$SI)\n",
    "# sd(data$SI)\n",
    "\n",
    "# # MRI variables (FA_CC, FA_IC, FA_CR, WMHV)\n",
    "\n",
    "# mean(data$FA_CC)\n",
    "# sd(data$FA_CC)\n",
    "\n",
    "# mean(data$FA_IC)\n",
    "# sd(data$FA_IC)\n",
    "\n",
    "# mean(data$FA_CR)\n",
    "# sd(data$FA_CR)\n",
    "\n",
    "# mean(data$WMH)\n",
    "# sd(data$WMH)\n"
   ]
  },
  {
   "cell_type": "markdown",
   "metadata": {},
   "source": [
    "## Groupe 3: 65-75 years "
   ]
  },
  {
   "cell_type": "code",
   "execution_count": null,
   "metadata": {},
   "outputs": [],
   "source": [
    "data <- read.csv('data1_inclusion_4.csv')\n",
    "dim(data)\n"
   ]
  },
  {
   "cell_type": "code",
   "execution_count": null,
   "metadata": {},
   "outputs": [],
   "source": [
    "#Excluding participants based on exclusion criteria (EC)\n",
    "data6575_inclusion = data [c(data$age>=65 & data$age<75),]\n",
    "\n",
    "#print(data6557_inclusion)\n",
    "dim(data6575_inclusion)\n",
    "\n",
    "write.csv(data6575_inclusion, \"data6575_inclusion.csv\")"
   ]
  },
  {
   "cell_type": "code",
   "execution_count": null,
   "metadata": {},
   "outputs": [],
   "source": [
    "# READ THE DATA\n",
    "data <- read.csv('data6575_inclusion.csv')\n",
    "dim(data)\n"
   ]
  },
  {
   "cell_type": "code",
   "execution_count": null,
   "metadata": {},
   "outputs": [],
   "source": [
    "## Partial correlation\n",
    "\n",
    "pcor.test(data$PP, data$FA_CC, data$Sex, method = c(\"spearman\"))\n",
    "pcor.test(data$SI, data$FA_CC, data$Sex, method = c(\"spearman\"))\n",
    "\n",
    "# pcor.test(data$PP, data$WMHV, data$Sex, method = c(\"spearman\"))\n",
    "# pcor.test(data$SI, data$WMHV, data$Sex, method = c(\"spearman\"))"
   ]
  },
  {
   "cell_type": "code",
   "execution_count": null,
   "metadata": {},
   "outputs": [],
   "source": [
    "gplotX1 <- ggplot(data, aes(x=data$PP, y=data$FA_CC)) + geom_point (size=.4) + geom_smooth(method=lm, se=FALSE) +theme_bw() + theme(text = element_text(size=20)) + xlab(\"PP\") + ylab(\"FA_CC\")\n",
    "\n",
    "gplotX2 <- ggplot(data, aes(x=data$SI, y=data$FA_CC)) + geom_point (size=.4) + geom_smooth(method=lm, se=FALSE) +theme_bw() + theme(text = element_text(size=20)) + xlab(\"SI\") + ylab(\"FA_CC\")\n",
    "\n",
    "gplotX3 <- ggplot(data, aes(x=data$PP, y=data$WMHV)) + geom_point (size=.4) + geom_smooth(method=lm, se=FALSE) +theme_bw() + theme(text = element_text(size=20)) + xlab(\"PP\") + ylab(\"WMHV\")\n",
    "\n",
    "gplotX4 <- ggplot(data, aes(x=data$SI, y=data$WMHV)) + geom_point (size=.4) + geom_smooth(method=lm, se=FALSE) +theme_bw() + theme(text = element_text(size=20)) + xlab(\"SI\") + ylab(\"WMHV\")\n"
   ]
  },
  {
   "cell_type": "code",
   "execution_count": null,
   "metadata": {},
   "outputs": [],
   "source": [
    "# ggplotly(gplotX1)\n",
    "# ggplotly(gplotX2)\n",
    "#  ggplotly(gplotX3)\n",
    " ggplotly(gplotX4)"
   ]
  },
  {
   "cell_type": "code",
   "execution_count": null,
   "metadata": {},
   "outputs": [],
   "source": [
    "## Participants characteristics\n",
    "\n",
    "data <- read.csv('data6575_inclusion.csv')\n",
    "\n",
    "# # #Demographics variables (sex, age)\n",
    "# female <-data$Sex==0\n",
    "# table(female)\n",
    "# male <-data$Sex==1\n",
    "# table(male)\n",
    "\n",
    "mean(data$age)\n",
    "sd(data$age)\n",
    "\n",
    "# #Cardiovascular variables (BMI, SBP, DBP, PP, PPi, SI)\n",
    "\n",
    "# mean(data$BMI)\n",
    "# sd(data$BMI)\n",
    "\n",
    "# mean(data$SBP_corrected)\n",
    "# sd(data$SBP_corrected)\n",
    "\n",
    "# mean(data$DBP_corrected)\n",
    "# sd(data$DBP_corrected)\n",
    "\n",
    "# mean(data$PP)\n",
    "# sd(data$PP)\n",
    "\n",
    "mean(data$SI)\n",
    "sd(data$SI)\n",
    "\n",
    "# MRI variables (FA_CC, FA_IC, FA_CR, WMHV)\n",
    "\n",
    "mean(data$FA_CC)\n",
    "sd(data$FA_CC)\n",
    "\n",
    "mean(data$FA_IC)\n",
    "sd(data$FA_IC)\n",
    "\n",
    "mean(data$FA_CR)\n",
    "sd(data$FA_CR)\n",
    "\n",
    "mean(data$WMH)\n",
    "sd(data$WMH)"
   ]
  },
  {
   "cell_type": "markdown",
   "metadata": {},
   "source": [
    "## Groupe 4: over 75 years "
   ]
  },
  {
   "cell_type": "code",
   "execution_count": null,
   "metadata": {},
   "outputs": [],
   "source": [
    "data <- read.csv('data1_inclusion_4.csv')\n",
    "dim(data)\n"
   ]
  },
  {
   "cell_type": "code",
   "execution_count": null,
   "metadata": {},
   "outputs": [],
   "source": [
    "#Excluding participants based on exclusion criteria (EC)\n",
    "data75etplus_inclusion = data [c(data$age>75),]\n",
    "\n",
    "#print(data75etplus_inclusion)\n",
    "dim(data75etplus_inclusion)\n",
    "\n",
    "write.csv(data75etplus_inclusion, \"data75etplus_inclusion.csv\")"
   ]
  },
  {
   "cell_type": "code",
   "execution_count": null,
   "metadata": {},
   "outputs": [],
   "source": [
    "# READ THE DATA\n",
    "data <- read.csv('data75etplus_inclusion.csv')\n",
    "dim(data)\n"
   ]
  },
  {
   "cell_type": "code",
   "execution_count": null,
   "metadata": {},
   "outputs": [],
   "source": [
    "## Partial correlation\n",
    "\n",
    "# pcor.test(data$PP, data$FA_CC, data$Sex, method = c(\"spearman\"))\n",
    "# pcor.test(data$SI, data$FA_CC, data$Sex, method = c(\"spearman\"))\n",
    "\n",
    "pcor.test(data$PP, data$WMHV, data$Sex, method = c(\"spearman\"))\n",
    "pcor.test(data$SI, data$WMHV, data$Sex, method = c(\"spearman\"))"
   ]
  },
  {
   "cell_type": "code",
   "execution_count": null,
   "metadata": {},
   "outputs": [],
   "source": [
    "gplotX1 <- ggplot(data, aes(x=data$PP, y=data$FA_CC)) + geom_point (size=.4) + geom_smooth(method=lm, se=FALSE) +theme_bw() + theme(text = element_text(size=20)) + xlab(\"PP\") + ylab(\"FA_CC\")\n",
    "\n",
    "gplotX2 <- ggplot(data, aes(x=data$SI, y=data$FA_CC)) + geom_point (size=.4) + geom_smooth(method=lm, se=FALSE) +theme_bw() + theme(text = element_text(size=20)) + xlab(\"SI\") + ylab(\"FA_CC\")\n",
    "\n",
    "gplotX3 <- ggplot(data, aes(x=data$PP, y=data$WMHV)) + geom_point (size=.4) + geom_smooth(method=lm, se=FALSE) +theme_bw() + theme(text = element_text(size=20)) + xlab(\"PP\") + ylab(\"WMHV\")\n",
    "\n",
    "gplotX4 <- ggplot(data, aes(x=data$SI, y=data$WMHV)) + geom_point (size=.4) + geom_smooth(method=lm, se=FALSE) +theme_bw() + theme(text = element_text(size=20)) + xlab(\"SI\") + ylab(\"WMHV\")\n"
   ]
  },
  {
   "cell_type": "code",
   "execution_count": null,
   "metadata": {},
   "outputs": [],
   "source": [
    "# ggplotly(gplotX1)\n",
    "# ggplotly(gplotX2)\n",
    "# ggplotly(gplotX3)\n",
    "# ggplotly(gplotX4)"
   ]
  },
  {
   "cell_type": "code",
   "execution_count": null,
   "metadata": {},
   "outputs": [],
   "source": [
    "## Participants characteristics\n",
    "\n",
    "data <- read.csv('data75etplus_inclusion.csv')\n",
    "\n",
    "# # #Demographics variables (sex, age)\n",
    "# female <-data$Sex==0\n",
    "# table(female)\n",
    "# male <-data$Sex==1\n",
    "# table(male)\n",
    "\n",
    "# mean(data$age)\n",
    "# sd(data$age)\n",
    "\n",
    "# #Cardiovascular variables (BMI, SBP, DBP, PP, PPi, SI)\n",
    "\n",
    "# mean(data$BMI)\n",
    "# sd(data$BMI)\n",
    "\n",
    "# mean(data$SBP_corrected)\n",
    "# sd(data$SBP_corrected)\n",
    "\n",
    "# mean(data$DBP_corrected)\n",
    "# sd(data$DBP_corrected)\n",
    "\n",
    "# mean(data$PP)\n",
    "# sd(data$PP)\n",
    "\n",
    "# mean(data$SI)\n",
    "# sd(data$SI)\n",
    "\n",
    "# MRI variables (FA_CC, FA_IC, FA_CR, WMHV)\n",
    "\n",
    "# mean(data$FA_CC)\n",
    "# sd(data$FA_CC)\n",
    "\n",
    "mean(data$FA_IC)\n",
    "sd(data$FA_IC)\n",
    "\n",
    "mean(data$FA_CR)\n",
    "sd(data$FA_CR)\n",
    "\n",
    "mean(data$WMH)\n",
    "sd(data$WMH)"
   ]
  },
  {
   "cell_type": "markdown",
   "metadata": {},
   "source": [
    "# Additional analysis for discussion"
   ]
  },
  {
   "cell_type": "code",
   "execution_count": null,
   "metadata": {},
   "outputs": [],
   "source": [
    "pcor.test(data$DBP, data$FA_CC, data$Sex, method = c(\"spearman\"))\n",
    "pcor.test(data$DBP, data$WMHV, data$Sex, method = c(\"spearman\"))\n",
    "\n",
    "gplotX <- ggplot(data, aes(x=data$DBP, y=data$FA_CC)) + geom_point (size=.4) + geom_smooth(method=lm, se=FALSE) +theme_bw() + theme(text = element_text(size=20)) + xlab(\"DBP\") + ylab(\"FA_CC\")\n",
    "\n",
    "gplotXX <- ggplot(data, aes(x=data$DBP, y=data$WMHV)) + geom_point (size=.4) + geom_smooth(method=lm, se=FALSE) +theme_bw() + theme(text = element_text(size=20)) + xlab(\"DBP\") + ylab(\"WMHV\")\n",
    "\n",
    "ggplotly(gplotX)\n",
    "ggplotly(gplotXX)"
   ]
  },
  {
   "cell_type": "code",
   "execution_count": null,
   "metadata": {},
   "outputs": [],
   "source": [
    "\n",
    "gplotY <- ggplot(data, aes(x=data$age, y=data$PP)) + geom_point (size=.4) + geom_smooth(method=lm, se=FALSE) +theme_bw() + theme(text = element_text(size=20)) + xlab(\"age\") + ylab(\"PP\")\n",
    "gplotYY <- ggplot(data, aes(x=data$age, y=data$WMHV)) + geom_point (size=.4) + geom_smooth(method=lm, se=FALSE) +theme_bw() + theme(text = element_text(size=20)) + xlab(\"age\") + ylab(\"WMHV\")\n",
    "\n",
    "ggplotly(gplotY)\n",
    "ggplotly(gplotYY)\n"
   ]
  },
  {
   "cell_type": "code",
   "execution_count": null,
   "metadata": {},
   "outputs": [],
   "source": []
  }
 ],
 "metadata": {
  "kernelspec": {
   "display_name": "R",
   "language": "R",
   "name": "ir"
  },
  "language_info": {
   "codemirror_mode": "r",
   "file_extension": ".r",
   "mimetype": "text/x-r-source",
   "name": "R",
   "pygments_lexer": "r",
   "version": "3.5.2"
  }
 },
 "nbformat": 4,
 "nbformat_minor": 2
}
